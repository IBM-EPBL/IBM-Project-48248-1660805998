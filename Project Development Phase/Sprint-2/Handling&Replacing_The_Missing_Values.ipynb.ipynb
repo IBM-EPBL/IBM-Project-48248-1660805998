{
 "cells": [
  {
   "cell_type": "markdown",
   "id": "2b92dd14",
   "metadata": {},
   "source": [
    "# SPRINT-2"
   ]
  },
  {
   "cell_type": "markdown",
   "id": "bb968350",
   "metadata": {},
   "source": [
    "# Handling And Replacing The Missing Values"
   ]
  },
  {
   "cell_type": "code",
   "execution_count": 19,
   "id": "afd44d24",
   "metadata": {},
   "outputs": [],
   "source": [
    "#Converting the categorical to 0 and 1"
   ]
  },
  {
   "cell_type": "code",
   "execution_count": 20,
   "id": "d0857f73",
   "metadata": {},
   "outputs": [
    {
     "data": {
      "text/plain": [
       "normal      202\n",
       "abnormal     47\n",
       "Name: Red_Blood_Cells, dtype: int64"
      ]
     },
     "execution_count": 20,
     "metadata": {},
     "output_type": "execute_result"
    }
   ],
   "source": [
    "df['Red_Blood_Cells'].value_counts()"
   ]
  },
  {
   "cell_type": "code",
   "execution_count": 21,
   "id": "d811df3c",
   "metadata": {},
   "outputs": [],
   "source": [
    "df['Red_Blood_Cells'] = df['Red_Blood_Cells'].replace(to_replace = {'normal' : 0, 'abnormal' : 1})"
   ]
  },
  {
   "cell_type": "code",
   "execution_count": 22,
   "id": "08e93d45",
   "metadata": {},
   "outputs": [
    {
     "data": {
      "text/plain": [
       "normal      259\n",
       "abnormal     76\n",
       "Name: Pus_Cells, dtype: int64"
      ]
     },
     "execution_count": 22,
     "metadata": {},
     "output_type": "execute_result"
    }
   ],
   "source": [
    "df['Pus_Cells'].value_counts()"
   ]
  },
  {
   "cell_type": "code",
   "execution_count": 23,
   "id": "21c23c52",
   "metadata": {},
   "outputs": [],
   "source": [
    "df['Pus_Cells'] = df['Pus_Cells'].replace(to_replace = {'normal' : 0, 'abnormal' : 1})"
   ]
  },
  {
   "cell_type": "code",
   "execution_count": 24,
   "id": "f1f58eba",
   "metadata": {},
   "outputs": [
    {
     "data": {
      "text/plain": [
       "notpresent    354\n",
       "present        42\n",
       "Name: Puss_Cell_Clumps, dtype: int64"
      ]
     },
     "execution_count": 24,
     "metadata": {},
     "output_type": "execute_result"
    }
   ],
   "source": [
    "df['Puss_Cell_Clumps'].value_counts()"
   ]
  },
  {
   "cell_type": "code",
   "execution_count": 25,
   "id": "7997af7a",
   "metadata": {},
   "outputs": [],
   "source": [
    "df['Puss_Cell_Clumps'] = df['Puss_Cell_Clumps'].replace(to_replace = {'notpresent':0,'present':1})"
   ]
  },
  {
   "cell_type": "code",
   "execution_count": 26,
   "id": "871b2fde",
   "metadata": {},
   "outputs": [
    {
     "data": {
      "text/plain": [
       "no     251\n",
       "yes    147\n",
       "Name: Hypertension, dtype: int64"
      ]
     },
     "execution_count": 26,
     "metadata": {},
     "output_type": "execute_result"
    }
   ],
   "source": [
    "df['Hypertension'].value_counts()"
   ]
  },
  {
   "cell_type": "code",
   "execution_count": 27,
   "id": "cdefd3d2",
   "metadata": {},
   "outputs": [],
   "source": [
    "df['Hypertension'] = df['Hypertension'].replace(to_replace = {'yes' : 1, 'no' : 0})"
   ]
  },
  {
   "cell_type": "code",
   "execution_count": 28,
   "id": "7115fd60",
   "metadata": {},
   "outputs": [
    {
     "data": {
      "text/plain": [
       "no       258\n",
       "yes      134\n",
       "\\tno       3\n",
       "\\tyes      2\n",
       " yes       1\n",
       "Name: Diabetes_Mellitus, dtype: int64"
      ]
     },
     "execution_count": 28,
     "metadata": {},
     "output_type": "execute_result"
    }
   ],
   "source": [
    "df['Diabetes_Mellitus'].value_counts()"
   ]
  },
  {
   "cell_type": "code",
   "execution_count": 29,
   "id": "ce4774eb",
   "metadata": {},
   "outputs": [],
   "source": [
    "df['Diabetes_Mellitus'] = df['Diabetes_Mellitus'].replace(to_replace = {'\\tyes': 1, ' yes': 1, '\\tno': 0 , 'no': 0 , 'yes': 1})"
   ]
  },
  {
   "cell_type": "code",
   "execution_count": 30,
   "id": "5674ab07",
   "metadata": {},
   "outputs": [
    {
     "data": {
      "text/plain": [
       "no      362\n",
       "yes      34\n",
       "\\tno      2\n",
       "Name: Coronary_Artery_Disease, dtype: int64"
      ]
     },
     "execution_count": 30,
     "metadata": {},
     "output_type": "execute_result"
    }
   ],
   "source": [
    "df['Coronary_Artery_Disease'].value_counts()"
   ]
  },
  {
   "cell_type": "code",
   "execution_count": 31,
   "id": "536200b0",
   "metadata": {},
   "outputs": [],
   "source": [
    "df['Coronary_Artery_Disease'] = df['Coronary_Artery_Disease'].replace(to_replace = {'yes' : 1, 'no' : 0})"
   ]
  },
  {
   "cell_type": "code",
   "execution_count": 32,
   "id": "06d23b40",
   "metadata": {},
   "outputs": [
    {
     "data": {
      "text/plain": [
       "array(['good', 'poor', nan], dtype=object)"
      ]
     },
     "execution_count": 32,
     "metadata": {},
     "output_type": "execute_result"
    }
   ],
   "source": [
    "df['Appetite'].unique()"
   ]
  },
  {
   "cell_type": "code",
   "execution_count": 33,
   "id": "6d9d2df6",
   "metadata": {},
   "outputs": [],
   "source": [
    "df['Appetite'] = df['Appetite'].replace(to_replace={'good':1,'poor':0,'no':np.nan})"
   ]
  },
  {
   "cell_type": "code",
   "execution_count": 34,
   "id": "b8477dcd",
   "metadata": {},
   "outputs": [
    {
     "data": {
      "text/plain": [
       "no     323\n",
       "yes     76\n",
       "Name: Peda_Edema, dtype: int64"
      ]
     },
     "execution_count": 34,
     "metadata": {},
     "output_type": "execute_result"
    }
   ],
   "source": [
    "df['Peda_Edema'].value_counts()"
   ]
  },
  {
   "cell_type": "code",
   "execution_count": 35,
   "id": "ab2d27c2",
   "metadata": {},
   "outputs": [],
   "source": [
    "df['Peda_Edema'] = df['Peda_Edema'].replace(to_replace = {'yes' : 1, 'no' : 0})"
   ]
  },
  {
   "cell_type": "code",
   "execution_count": 36,
   "id": "4978cacf",
   "metadata": {},
   "outputs": [
    {
     "data": {
      "text/plain": [
       "no     339\n",
       "yes     60\n",
       "Name: Aanemia, dtype: int64"
      ]
     },
     "execution_count": 36,
     "metadata": {},
     "output_type": "execute_result"
    }
   ],
   "source": [
    "df['Aanemia'].value_counts()"
   ]
  },
  {
   "cell_type": "code",
   "execution_count": 37,
   "id": "6a479601",
   "metadata": {},
   "outputs": [],
   "source": [
    "df['Aanemia'] = df['Aanemia'].replace(to_replace = {'yes' : 1, 'no' : 0})"
   ]
  },
  {
   "cell_type": "code",
   "execution_count": 38,
   "id": "c8edb8f0",
   "metadata": {},
   "outputs": [
    {
     "data": {
      "text/plain": [
       "ckd       248\n",
       "notckd    150\n",
       "ckd\\t       2\n",
       "Name: class, dtype: int64"
      ]
     },
     "execution_count": 38,
     "metadata": {},
     "output_type": "execute_result"
    }
   ],
   "source": [
    "#checking the distribution of class variable\n",
    "df['class'].value_counts()"
   ]
  },
  {
   "cell_type": "code",
   "execution_count": 39,
   "id": "9903d055",
   "metadata": {},
   "outputs": [],
   "source": [
    "df['class'] = df['class'].replace(to_replace={'ckd\\t':'ckd'})"
   ]
  },
  {
   "cell_type": "code",
   "execution_count": 40,
   "id": "0c4fe6a1",
   "metadata": {},
   "outputs": [],
   "source": [
    "df[\"class\"] = [1 if i == \"ckd\" else 0 for i in df[\"class\"]]"
   ]
  },
  {
   "cell_type": "code",
   "execution_count": 41,
   "id": "7c1f58a9",
   "metadata": {},
   "outputs": [
    {
     "data": {
      "text/plain": [
       "notpresent    374\n",
       "present        22\n",
       "Name: Bacteria, dtype: int64"
      ]
     },
     "execution_count": 41,
     "metadata": {},
     "output_type": "execute_result"
    }
   ],
   "source": [
    "df['Bacteria'].value_counts()"
   ]
  },
  {
   "cell_type": "code",
   "execution_count": 42,
   "id": "8dda69e3",
   "metadata": {},
   "outputs": [],
   "source": [
    "df['Bacteria'] = df['Bacteria'].replace(to_replace = {'notpresent':0,'present':1})"
   ]
  },
  {
   "cell_type": "code",
   "execution_count": 43,
   "id": "147d533b",
   "metadata": {},
   "outputs": [],
   "source": [
    "#Converting PCV,WBCC,RBCC ( Objects to numberic)\n",
    "df['Packed_Cell_Volume'] = pd.to_numeric(df['Packed_Cell_Volume'], errors='coerce')\n",
    "df['White_Blood_Cell_Count'] = pd.to_numeric(df['White_Blood_Cell_Count'], errors='coerce')\n",
    "df['Red_Blood_Cell_Count'] = pd.to_numeric(df['Red_Blood_Cell_Count'], errors='coerce')"
   ]
  },
  {
   "cell_type": "markdown",
   "id": "91786f7b",
   "metadata": {},
   "source": [
    "# Splitting the Features and class"
   ]
  },
  {
   "cell_type": "code",
   "execution_count": 44,
   "id": "8a68b364",
   "metadata": {},
   "outputs": [],
   "source": [
    "X = df.drop(columns='class',axis=1)\n",
    "Y = df['class']"
   ]
  },
  {
   "cell_type": "code",
   "execution_count": 45,
   "id": "76770226",
   "metadata": {},
   "outputs": [
    {
     "name": "stdout",
     "output_type": "stream",
     "text": [
      "      Age  Blood_Pressure  Specific_Gravity  Albumin  Sugar  Red_Blood_Cells  \\\n",
      "0    48.0            80.0             1.020      1.0    0.0              0.0   \n",
      "1     7.0            50.0             1.020      4.0    0.0              NaN   \n",
      "2    62.0            80.0             1.010      2.0    3.0              0.0   \n",
      "3    48.0            70.0             1.005      4.0    0.0              0.0   \n",
      "4    51.0            80.0             1.010      2.0    0.0              0.0   \n",
      "..    ...             ...               ...      ...    ...              ...   \n",
      "395  55.0            80.0             1.020      0.0    0.0              0.0   \n",
      "396  42.0            70.0             1.025      0.0    0.0              0.0   \n",
      "397  12.0            80.0             1.020      0.0    0.0              0.0   \n",
      "398  17.0            60.0             1.025      0.0    0.0              0.0   \n",
      "399  58.0            80.0             1.025      0.0    0.0              0.0   \n",
      "\n",
      "     Pus_Cells  Puss_Cell_Clumps  Bacteria  Blood_Gulcose_Random  ...  \\\n",
      "0          0.0               0.0       0.0                 121.0  ...   \n",
      "1          0.0               0.0       0.0                   NaN  ...   \n",
      "2          0.0               0.0       0.0                 423.0  ...   \n",
      "3          1.0               1.0       0.0                 117.0  ...   \n",
      "4          0.0               0.0       0.0                 106.0  ...   \n",
      "..         ...               ...       ...                   ...  ...   \n",
      "395        0.0               0.0       0.0                 140.0  ...   \n",
      "396        0.0               0.0       0.0                  75.0  ...   \n",
      "397        0.0               0.0       0.0                 100.0  ...   \n",
      "398        0.0               0.0       0.0                 114.0  ...   \n",
      "399        0.0               0.0       0.0                 131.0  ...   \n",
      "\n",
      "     Haemoglobin  Packed_Cell_Volume  White_Blood_Cell_Count  \\\n",
      "0           15.4                44.0                  7800.0   \n",
      "1           11.3                38.0                  6000.0   \n",
      "2            9.6                31.0                  7500.0   \n",
      "3           11.2                32.0                  6700.0   \n",
      "4           11.6                35.0                  7300.0   \n",
      "..           ...                 ...                     ...   \n",
      "395         15.7                47.0                  6700.0   \n",
      "396         16.5                54.0                  7800.0   \n",
      "397         15.8                49.0                  6600.0   \n",
      "398         14.2                51.0                  7200.0   \n",
      "399         15.8                53.0                  6800.0   \n",
      "\n",
      "     Red_Blood_Cell_Count  Hypertension  Diabetes_Mellitus  \\\n",
      "0                     5.2           1.0                1.0   \n",
      "1                     NaN           0.0                0.0   \n",
      "2                     NaN           0.0                1.0   \n",
      "3                     3.9           1.0                0.0   \n",
      "4                     4.6           0.0                0.0   \n",
      "..                    ...           ...                ...   \n",
      "395                   4.9           0.0                0.0   \n",
      "396                   6.2           0.0                0.0   \n",
      "397                   5.4           0.0                0.0   \n",
      "398                   5.9           0.0                0.0   \n",
      "399                   6.1           0.0                0.0   \n",
      "\n",
      "     Coronary_Artery_Disease  Appetite  Peda_Edema  Aanemia  \n",
      "0                          0       1.0         0.0      0.0  \n",
      "1                          0       1.0         0.0      0.0  \n",
      "2                          0       0.0         0.0      1.0  \n",
      "3                          0       0.0         1.0      1.0  \n",
      "4                          0       1.0         0.0      0.0  \n",
      "..                       ...       ...         ...      ...  \n",
      "395                        0       1.0         0.0      0.0  \n",
      "396                        0       1.0         0.0      0.0  \n",
      "397                        0       1.0         0.0      0.0  \n",
      "398                        0       1.0         0.0      0.0  \n",
      "399                        0       1.0         0.0      0.0  \n",
      "\n",
      "[400 rows x 24 columns]\n"
     ]
    }
   ],
   "source": [
    "print(X)"
   ]
  },
  {
   "cell_type": "code",
   "execution_count": 46,
   "id": "bf9b1d9b",
   "metadata": {},
   "outputs": [
    {
     "name": "stdout",
     "output_type": "stream",
     "text": [
      "0      1\n",
      "1      1\n",
      "2      1\n",
      "3      1\n",
      "4      1\n",
      "      ..\n",
      "395    0\n",
      "396    0\n",
      "397    0\n",
      "398    0\n",
      "399    0\n",
      "Name: class, Length: 400, dtype: int64\n"
     ]
    }
   ],
   "source": [
    "print(Y)"
   ]
  }
 ],
 "metadata": {
  "kernelspec": {
   "display_name": "Python 3 (ipykernel)",
   "language": "python",
   "name": "python3"
  },
  "language_info": {
   "codemirror_mode": {
    "name": "ipython",
    "version": 3
   },
   "file_extension": ".py",
   "mimetype": "text/x-python",
   "name": "python",
   "nbconvert_exporter": "python",
   "pygments_lexer": "ipython3",
   "version": "3.9.12"
  }
 },
 "nbformat": 4,
 "nbformat_minor": 5
}

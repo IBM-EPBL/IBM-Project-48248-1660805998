{
 "cells": [
  {
   "cell_type": "code",
   "execution_count": 2,
   "id": "82d00698",
   "metadata": {},
   "outputs": [],
   "source": [
    "#Loading the csv data in a Pandas DataFrame\n",
    "df= pd.read_csv(\"chronickidneydisease.csv\")\n"
   ]
  },
  {
   "cell_type": "markdown",
   "id": "625e9be4",
   "metadata": {},
   "source": [
    "# Label Encoding"
   ]
  },
  {
   "cell_type": "code",
   "execution_count": 45,
   "id": "28d9d496",
   "metadata": {},
   "outputs": [
    {
     "data": {
      "text/plain": [
       "Age                          9\n",
       "Blood_Pressure              12\n",
       "Specific_Gravity            47\n",
       "Albumin                     46\n",
       "Sugar                       49\n",
       "Red_Blood_Cells            151\n",
       "Pus_Cells                   65\n",
       "Puss_Cell_Clumps             4\n",
       "Bacteria                     4\n",
       "Blood_Gulcose_Random        44\n",
       "Blood_Urea                  19\n",
       "Serum_Creatinine            17\n",
       "Sodium                      86\n",
       "Potassium                   86\n",
       "Haemoglobin                 52\n",
       "Packed_Cell_Volume          71\n",
       "White_Blood_Cell_Count     106\n",
       "Red_Blood_Cell_Count       131\n",
       "Hypertension                 2\n",
       "Diabetes_Mellitus            2\n",
       "Coronary_Artery_Disease      2\n",
       "Appetite                     1\n",
       "Peda_Edema                   1\n",
       "Aanemia                      1\n",
       "class                        0\n",
       "dtype: int64"
      ]
     },
     "execution_count": 45,
     "metadata": {},
     "output_type": "execute_result"
    }
   ],
   "source": [
    "df.isna().sum()"
   ]
  },
  {
   "cell_type": "code",
   "execution_count": 46,
   "id": "1373f2e9",
   "metadata": {},
   "outputs": [],
   "source": [
    "from sklearn.preprocessing import LabelEncoder\n",
    "\n",
    "lab_enc = LabelEncoder()\n",
    "for i in df:\n",
    "  df[i] = lab_enc.fit_transform(df[i])"
   ]
  },
  {
   "cell_type": "code",
   "execution_count": 47,
   "id": "a08af7cc",
   "metadata": {},
   "outputs": [
    {
     "data": {
      "text/plain": [
       "Age                        0\n",
       "Blood_Pressure             0\n",
       "Specific_Gravity           0\n",
       "Albumin                    0\n",
       "Sugar                      0\n",
       "Red_Blood_Cells            0\n",
       "Pus_Cells                  0\n",
       "Puss_Cell_Clumps           0\n",
       "Bacteria                   0\n",
       "Blood_Gulcose_Random       0\n",
       "Blood_Urea                 0\n",
       "Serum_Creatinine           0\n",
       "Sodium                     0\n",
       "Potassium                  0\n",
       "Haemoglobin                0\n",
       "Packed_Cell_Volume         0\n",
       "White_Blood_Cell_Count     0\n",
       "Red_Blood_Cell_Count       0\n",
       "Hypertension               0\n",
       "Diabetes_Mellitus          0\n",
       "Coronary_Artery_Disease    0\n",
       "Appetite                   0\n",
       "Peda_Edema                 0\n",
       "Aanemia                    0\n",
       "class                      0\n",
       "dtype: int64"
      ]
     },
     "execution_count": 47,
     "metadata": {},
     "output_type": "execute_result"
    }
   ],
   "source": [
    "df.isna().sum()"
   ]
  }
 ],
 "metadata": {
  "kernelspec": {
   "display_name": "Python 3 (ipykernel)",
   "language": "python",
   "name": "python3"
  },
  "language_info": {
   "codemirror_mode": {
    "name": "ipython",
    "version": 3
   },
   "file_extension": ".py",
   "mimetype": "text/x-python",
   "name": "python",
   "nbconvert_exporter": "python",
   "pygments_lexer": "ipython3",
   "version": "3.9.12"
  }
 },
 "nbformat": 4,
 "nbformat_minor": 5
}

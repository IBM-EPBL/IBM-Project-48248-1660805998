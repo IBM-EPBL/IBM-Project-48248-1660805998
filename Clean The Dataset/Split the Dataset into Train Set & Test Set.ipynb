{
 "cells": [
  {
   "cell_type": "code",
   "execution_count": 2,
   "id": "82d00698",
   "metadata": {},
   "outputs": [],
   "source": [
    "#Loading the csv data in a Pandas DataFrame\n",
    "df= pd.read_csv(\"chronickidneydisease.csv\")\n"
   ]
  },
  {
   "cell_type": "markdown",
   "id": "d4c1992e",
   "metadata": {},
   "source": [
    "# Split the Dataset into Train Set & Test Set"
   ]
  },
  {
   "cell_type": "code",
   "execution_count": null,
   "id": "f3bd7d3f",
   "metadata": {},
   "outputs": [],
   "source": [
    "X_train, X_test, Y_train, Y_test = train_test_split(X,Y,test_size=0.2, stratify=Y, random_state=2)"
   ]
  },
  {
   "cell_type": "code",
   "execution_count": null,
   "id": "8b26472c",
   "metadata": {},
   "outputs": [],
   "source": [
    "print(X.shape, X_train.shape, X_test.shape)"
   ]
  }
 ],
 "metadata": {
  "kernelspec": {
   "display_name": "Python 3 (ipykernel)",
   "language": "python",
   "name": "python3"
  },
  "language_info": {
   "codemirror_mode": {
    "name": "ipython",
    "version": 3
   },
   "file_extension": ".py",
   "mimetype": "text/x-python",
   "name": "python",
   "nbconvert_exporter": "python",
   "pygments_lexer": "ipython3",
   "version": "3.9.12"
  }
 },
 "nbformat": 4,
 "nbformat_minor": 5
}

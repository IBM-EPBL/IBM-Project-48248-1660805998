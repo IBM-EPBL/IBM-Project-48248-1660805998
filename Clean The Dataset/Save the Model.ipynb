{
 "cells": [
  {
   "cell_type": "markdown",
   "id": "cb6da11b",
   "metadata": {},
   "source": [
    "# Save the Model"
   ]
  },
  {
   "cell_type": "code",
   "execution_count": 62,
   "id": "f21837d7",
   "metadata": {},
   "outputs": [],
   "source": [
    "filename = 'kidney_disease_model.sav'\n",
    "pickle.dump(model, open(filename,'wb'))"
   ]
  },
  {
   "cell_type": "code",
   "execution_count": 63,
   "id": "76f54711",
   "metadata": {},
   "outputs": [],
   "source": [
    "#loading the saved model\n",
    "loaded_model = pickle.load(open('kidney_disease_model.sav','rb'))"
   ]
  },
  {
   "cell_type": "code",
   "execution_count": 64,
   "id": "f88663cb",
   "metadata": {},
   "outputs": [
    {
     "name": "stdout",
     "output_type": "stream",
     "text": [
      "Age\n",
      "Blood_Pressure\n",
      "Specific_Gravity\n",
      "Albumin\n",
      "Sugar\n",
      "Red_Blood_Cells\n",
      "Pus_Cells\n",
      "Puss_Cell_Clumps\n",
      "Bacteria\n",
      "Blood_Gulcose_Random\n",
      "Blood_Urea\n",
      "Serum_Creatinine\n",
      "Sodium\n",
      "Potassium\n",
      "Haemoglobin\n",
      "Packed_Cell_Volume\n",
      "White_Blood_Cell_Count\n",
      "Red_Blood_Cell_Count\n",
      "Hypertension\n",
      "Diabetes_Mellitus\n",
      "Coronary_Artery_Disease\n",
      "Appetite\n",
      "Peda_Edema\n",
      "Aanemia\n"
     ]
    }
   ],
   "source": [
    "for column in X.columns:\n",
    "    print(column)"
   ]
  }
 ],
 "metadata": {
  "kernelspec": {
   "display_name": "Python 3 (ipykernel)",
   "language": "python",
   "name": "python3"
  },
  "language_info": {
   "codemirror_mode": {
    "name": "ipython",
    "version": 3
   },
   "file_extension": ".py",
   "mimetype": "text/x-python",
   "name": "python",
   "nbconvert_exporter": "python",
   "pygments_lexer": "ipython3",
   "version": "3.9.12"
  }
 },
 "nbformat": 4,
 "nbformat_minor": 5
}

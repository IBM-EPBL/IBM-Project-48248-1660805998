{
 "cells": [
  {
   "cell_type": "markdown",
   "id": "91786f7b",
   "metadata": {},
   "source": [
    "# Splitting the Dataset into Dependent and Independent Variable"
   ]
  },
  {
   "cell_type": "code",
   "execution_count": 48,
   "id": "8a68b364",
   "metadata": {},
   "outputs": [],
   "source": [
    "X = df.drop(columns='class',axis=1)\n",
    "Y = df['class']"
   ]
  },
  {
   "cell_type": "code",
   "execution_count": 49,
   "id": "76770226",
   "metadata": {},
   "outputs": [
    {
     "name": "stdout",
     "output_type": "stream",
     "text": [
      "     Age  Blood_Pressure  Specific_Gravity  Albumin  Sugar  Red_Blood_Cells  \\\n",
      "0     40               3                 3        1      0                0   \n",
      "1      5               0                 3        4      0                2   \n",
      "2     54               3                 1        2      3                0   \n",
      "3     40               2                 0        4      0                0   \n",
      "4     43               3                 1        2      0                0   \n",
      "..   ...             ...               ...      ...    ...              ...   \n",
      "395   47               3                 3        0      0                0   \n",
      "396   34               2                 4        0      0                0   \n",
      "397    8               3                 3        0      0                0   \n",
      "398   11               1                 4        0      0                0   \n",
      "399   50               3                 4        0      0                0   \n",
      "\n",
      "     Pus_Cells  Puss_Cell_Clumps  Bacteria  Blood_Gulcose_Random  ...  \\\n",
      "0            0                 0         0                    48  ...   \n",
      "1            0                 0         0                   146  ...   \n",
      "2            0                 0         0                   140  ...   \n",
      "3            1                 1         0                    44  ...   \n",
      "4            0                 0         0                    33  ...   \n",
      "..         ...               ...       ...                   ...  ...   \n",
      "395          0                 0         0                    64  ...   \n",
      "396          0                 0         0                     3  ...   \n",
      "397          0                 0         0                    27  ...   \n",
      "398          0                 0         0                    41  ...   \n",
      "399          0                 0         0                    57  ...   \n",
      "\n",
      "     Haemoglobin  Packed_Cell_Volume  White_Blood_Cell_Count  \\\n",
      "0             90                  31                      35   \n",
      "1             49                  25                      19   \n",
      "2             32                  18                      33   \n",
      "3             48                  19                      25   \n",
      "4             52                  22                      31   \n",
      "..           ...                 ...                     ...   \n",
      "395           93                  34                      25   \n",
      "396          101                  41                      35   \n",
      "397           94                  36                      24   \n",
      "398           78                  38                      30   \n",
      "399           94                  40                      26   \n",
      "\n",
      "     Red_Blood_Cell_Count  Hypertension  Diabetes_Mellitus  \\\n",
      "0                      30             1                  1   \n",
      "1                      45             0                  0   \n",
      "2                      45             0                  1   \n",
      "3                      17             1                  0   \n",
      "4                      24             0                  0   \n",
      "..                    ...           ...                ...   \n",
      "395                    27             0                  0   \n",
      "396                    40             0                  0   \n",
      "397                    32             0                  0   \n",
      "398                    37             0                  0   \n",
      "399                    39             0                  0   \n",
      "\n",
      "     Coronary_Artery_Disease  Appetite  Peda_Edema  Aanemia  \n",
      "0                          0         1           0        0  \n",
      "1                          0         1           0        0  \n",
      "2                          0         0           0        1  \n",
      "3                          0         0           1        1  \n",
      "4                          0         1           0        0  \n",
      "..                       ...       ...         ...      ...  \n",
      "395                        0         1           0        0  \n",
      "396                        0         1           0        0  \n",
      "397                        0         1           0        0  \n",
      "398                        0         1           0        0  \n",
      "399                        0         1           0        0  \n",
      "\n",
      "[400 rows x 24 columns]\n"
     ]
    }
   ],
   "source": [
    "print(X)"
   ]
  },
  {
   "cell_type": "code",
   "execution_count": 50,
   "id": "bf9b1d9b",
   "metadata": {},
   "outputs": [
    {
     "name": "stdout",
     "output_type": "stream",
     "text": [
      "0      1\n",
      "1      1\n",
      "2      1\n",
      "3      1\n",
      "4      1\n",
      "      ..\n",
      "395    0\n",
      "396    0\n",
      "397    0\n",
      "398    0\n",
      "399    0\n",
      "Name: class, Length: 400, dtype: int64\n"
     ]
    }
   ],
   "source": [
    "print(Y)"
   ]
  }
 ],
 "metadata": {
  "kernelspec": {
   "display_name": "Python 3 (ipykernel)",
   "language": "python",
   "name": "python3"
  },
  "language_info": {
   "codemirror_mode": {
    "name": "ipython",
    "version": 3
   },
   "file_extension": ".py",
   "mimetype": "text/x-python",
   "name": "python",
   "nbconvert_exporter": "python",
   "pygments_lexer": "ipython3",
   "version": "3.9.12"
  }
 },
 "nbformat": 4,
 "nbformat_minor": 5
}

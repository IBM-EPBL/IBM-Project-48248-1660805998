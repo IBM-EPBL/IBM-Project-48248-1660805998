{
 "cells": [
  {
   "cell_type": "code",
   "execution_count": 2,
   "id": "82d00698",
   "metadata": {},
   "outputs": [],
   "source": [
    "#Loading the csv data in a Pandas DataFrame\n",
    "df= pd.read_csv(\"chronickidneydisease.csv\")\n"
   ]
  },
  {
   "cell_type": "markdown",
   "id": "902a6cb5",
   "metadata": {},
   "source": [
    "# Replacing The Missing Values"
   ]
  },
  {
   "cell_type": "code",
   "execution_count": 19,
   "id": "afd44d24",
   "metadata": {},
   "outputs": [],
   "source": [
    "#Converting the categorical to 0 and 1"
   ]
  },
  {
   "cell_type": "code",
   "execution_count": 20,
   "id": "d0857f73",
   "metadata": {},
   "outputs": [
    {
     "data": {
      "text/plain": [
       "normal      202\n",
       "abnormal     47\n",
       "Name: Red_Blood_Cells, dtype: int64"
      ]
     },
     "execution_count": 20,
     "metadata": {},
     "output_type": "execute_result"
    }
   ],
   "source": [
    "df['Red_Blood_Cells'].value_counts()"
   ]
  },
  {
   "cell_type": "code",
   "execution_count": 21,
   "id": "d811df3c",
   "metadata": {},
   "outputs": [],
   "source": [
    "df['Red_Blood_Cells'] = df['Red_Blood_Cells'].replace(to_replace = {'normal' : 0, 'abnormal' : 1})"
   ]
  },
  {
   "cell_type": "code",
   "execution_count": 22,
   "id": "08e93d45",
   "metadata": {},
   "outputs": [
    {
     "data": {
      "text/plain": [
       "normal      259\n",
       "abnormal     76\n",
       "Name: Pus_Cells, dtype: int64"
      ]
     },
     "execution_count": 22,
     "metadata": {},
     "output_type": "execute_result"
    }
   ],
   "source": [
    "df['Pus_Cells'].value_counts()"
   ]
  },
  {
   "cell_type": "code",
   "execution_count": 23,
   "id": "21c23c52",
   "metadata": {},
   "outputs": [],
   "source": [
    "df['Pus_Cells'] = df['Pus_Cells'].replace(to_replace = {'normal' : 0, 'abnormal' : 1})"
   ]
  },
  {
   "cell_type": "code",
   "execution_count": 24,
   "id": "f1f58eba",
   "metadata": {},
   "outputs": [
    {
     "data": {
      "text/plain": [
       "notpresent    354\n",
       "present        42\n",
       "Name: Puss_Cell_Clumps, dtype: int64"
      ]
     },
     "execution_count": 24,
     "metadata": {},
     "output_type": "execute_result"
    }
   ],
   "source": [
    "df['Puss_Cell_Clumps'].value_counts()"
   ]
  },
  {
   "cell_type": "code",
   "execution_count": 25,
   "id": "7997af7a",
   "metadata": {},
   "outputs": [],
   "source": [
    "df['Puss_Cell_Clumps'] = df['Puss_Cell_Clumps'].replace(to_replace = {'notpresent':0,'present':1})"
   ]
  },
  {
   "cell_type": "code",
   "execution_count": 26,
   "id": "871b2fde",
   "metadata": {},
   "outputs": [
    {
     "data": {
      "text/plain": [
       "no     251\n",
       "yes    147\n",
       "Name: Hypertension, dtype: int64"
      ]
     },
     "execution_count": 26,
     "metadata": {},
     "output_type": "execute_result"
    }
   ],
   "source": [
    "df['Hypertension'].value_counts()"
   ]
  },
  {
   "cell_type": "code",
   "execution_count": 27,
   "id": "cdefd3d2",
   "metadata": {},
   "outputs": [],
   "source": [
    "df['Hypertension'] = df['Hypertension'].replace(to_replace = {'yes' : 1, 'no' : 0})"
   ]
  },
  {
   "cell_type": "code",
   "execution_count": 28,
   "id": "7115fd60",
   "metadata": {},
   "outputs": [
    {
     "data": {
      "text/plain": [
       "no       258\n",
       "yes      134\n",
       "\\tno       3\n",
       "\\tyes      2\n",
       " yes       1\n",
       "Name: Diabetes_Mellitus, dtype: int64"
      ]
     },
     "execution_count": 28,
     "metadata": {},
     "output_type": "execute_result"
    }
   ],
   "source": [
    "df['Diabetes_Mellitus'].value_counts()"
   ]
  },
  {
   "cell_type": "code",
   "execution_count": 29,
   "id": "ce4774eb",
   "metadata": {},
   "outputs": [],
   "source": [
    "df['Diabetes_Mellitus'] = df['Diabetes_Mellitus'].replace(to_replace = {'\\tyes': 1, ' yes': 1, '\\tno': 0 , 'no': 0 , 'yes': 1})"
   ]
  },
  {
   "cell_type": "code",
   "execution_count": 30,
   "id": "5674ab07",
   "metadata": {},
   "outputs": [
    {
     "data": {
      "text/plain": [
       "no      362\n",
       "yes      34\n",
       "\\tno      2\n",
       "Name: Coronary_Artery_Disease, dtype: int64"
      ]
     },
     "execution_count": 30,
     "metadata": {},
     "output_type": "execute_result"
    }
   ],
   "source": [
    "df['Coronary_Artery_Disease'].value_counts()"
   ]
  },
  {
   "cell_type": "code",
   "execution_count": 31,
   "id": "536200b0",
   "metadata": {},
   "outputs": [],
   "source": [
    "df['Coronary_Artery_Disease'] = df['Coronary_Artery_Disease'].replace(to_replace = {'yes' : 1, 'no' : 0, '\\tno': 0})"
   ]
  },
  {
   "cell_type": "code",
   "execution_count": 32,
   "id": "06d23b40",
   "metadata": {},
   "outputs": [
    {
     "data": {
      "text/plain": [
       "array(['good', 'poor', nan], dtype=object)"
      ]
     },
     "execution_count": 32,
     "metadata": {},
     "output_type": "execute_result"
    }
   ],
   "source": [
    "df['Appetite'].unique()"
   ]
  },
  {
   "cell_type": "code",
   "execution_count": 33,
   "id": "6d9d2df6",
   "metadata": {},
   "outputs": [],
   "source": [
    "df['Appetite'] = df['Appetite'].replace(to_replace={'good':1,'poor':0,'no':np.nan})"
   ]
  },
  {
   "cell_type": "code",
   "execution_count": 34,
   "id": "b8477dcd",
   "metadata": {},
   "outputs": [
    {
     "data": {
      "text/plain": [
       "no     323\n",
       "yes     76\n",
       "Name: Peda_Edema, dtype: int64"
      ]
     },
     "execution_count": 34,
     "metadata": {},
     "output_type": "execute_result"
    }
   ],
   "source": [
    "df['Peda_Edema'].value_counts()"
   ]
  },
  {
   "cell_type": "code",
   "execution_count": 35,
   "id": "ab2d27c2",
   "metadata": {},
   "outputs": [],
   "source": [
    "df['Peda_Edema'] = df['Peda_Edema'].replace(to_replace = {'yes' : 1, 'no' : 0})"
   ]
  },
  {
   "cell_type": "code",
   "execution_count": 36,
   "id": "4978cacf",
   "metadata": {},
   "outputs": [
    {
     "data": {
      "text/plain": [
       "no     339\n",
       "yes     60\n",
       "Name: Aanemia, dtype: int64"
      ]
     },
     "execution_count": 36,
     "metadata": {},
     "output_type": "execute_result"
    }
   ],
   "source": [
    "df['Aanemia'].value_counts()"
   ]
  },
  {
   "cell_type": "code",
   "execution_count": 37,
   "id": "6a479601",
   "metadata": {},
   "outputs": [],
   "source": [
    "df['Aanemia'] = df['Aanemia'].replace(to_replace = {'yes' : 1, 'no' : 0})"
   ]
  },
  {
   "cell_type": "code",
   "execution_count": 38,
   "id": "c8edb8f0",
   "metadata": {},
   "outputs": [
    {
     "data": {
      "text/plain": [
       "ckd       248\n",
       "notckd    150\n",
       "ckd\\t       2\n",
       "Name: class, dtype: int64"
      ]
     },
     "execution_count": 38,
     "metadata": {},
     "output_type": "execute_result"
    }
   ],
   "source": [
    "#checking the distribution of class variable\n",
    "df['class'].value_counts()"
   ]
  },
  {
   "cell_type": "code",
   "execution_count": 39,
   "id": "9903d055",
   "metadata": {},
   "outputs": [],
   "source": [
    "df['class'] = df['class'].replace(to_replace={'ckd\\t':'ckd'})"
   ]
  },
  {
   "cell_type": "code",
   "execution_count": 40,
   "id": "0c4fe6a1",
   "metadata": {},
   "outputs": [],
   "source": [
    "df[\"class\"] = [1 if i == \"ckd\" else 0 for i in df[\"class\"]]"
   ]
  },
  {
   "cell_type": "code",
   "execution_count": 41,
   "id": "7c1f58a9",
   "metadata": {},
   "outputs": [
    {
     "data": {
      "text/plain": [
       "notpresent    374\n",
       "present        22\n",
       "Name: Bacteria, dtype: int64"
      ]
     },
     "execution_count": 41,
     "metadata": {},
     "output_type": "execute_result"
    }
   ],
   "source": [
    "df['Bacteria'].value_counts()"
   ]
  },
  {
   "cell_type": "code",
   "execution_count": 42,
   "id": "8dda69e3",
   "metadata": {},
   "outputs": [],
   "source": [
    "df['Bacteria'] = df['Bacteria'].replace(to_replace = {'notpresent':0,'present':1})"
   ]
  },
  {
   "cell_type": "code",
   "execution_count": 43,
   "id": "147d533b",
   "metadata": {},
   "outputs": [],
   "source": [
    "#Converting PCV,WBCC,RBCC ( Objects to numberic)\n",
    "df['Packed_Cell_Volume'] = pd.to_numeric(df['Packed_Cell_Volume'], errors='coerce')\n",
    "df['White_Blood_Cell_Count'] = pd.to_numeric(df['White_Blood_Cell_Count'], errors='coerce')\n",
    "df['Red_Blood_Cell_Count'] = pd.to_numeric(df['Red_Blood_Cell_Count'], errors='coerce')"
   ]
  }
 ],
 "metadata": {
  "kernelspec": {
   "display_name": "Python 3 (ipykernel)",
   "language": "python",
   "name": "python3"
  },
  "language_info": {
   "codemirror_mode": {
    "name": "ipython",
    "version": 3
   },
   "file_extension": ".py",
   "mimetype": "text/x-python",
   "name": "python",
   "nbconvert_exporter": "python",
   "pygments_lexer": "ipython3",
   "version": "3.9.12"
  }
 },
 "nbformat": 4,
 "nbformat_minor": 5
}
